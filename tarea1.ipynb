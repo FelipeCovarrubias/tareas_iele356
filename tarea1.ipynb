{
 "cells": [
  {
   "cell_type": "markdown",
   "metadata": {},
   "source": [
    "# Tarea 1 \n",
    "## Análisis de Datos: Cuando hubo más gente en cuarentena desde marzo del 2020 por región?\n",
    "\n",
    "#### Felipe Covarrubias Quintana\n",
    "12-10-2021\n",
    "\n",
    "#### Enunciado\n",
    "Su tarea es mostrar y explicar, en 16 gráficos (uno por región), como fue la evolución de la cuarentena (por día) y contestar las siguientes 2 preguntas: \n",
    "1) ¿Qué dia hubo la mayor cantidad de personas en cuarentena en cada región?\n",
    "2) ¿Qué día hubo la mayor cantidad de personas en cuarentena en el país?"
   ]
  },
  {
   "cell_type": "markdown",
   "metadata": {},
   "source": [
    "#### Desarrollo\n",
    "Para desarrollar las preguntas, es necesario importar las siguientes librerias"
   ]
  },
  {
   "cell_type": "code",
   "execution_count": 176,
   "metadata": {},
   "outputs": [],
   "source": [
    "import pandas as pd\n",
    "import numpy as np\n",
    "import matplotlib.pyplot as plt\n",
    "import seaborn as sns\n",
    "from datetime import datetime, timedelta"
   ]
  },
  {
   "cell_type": "markdown",
   "metadata": {},
   "source": [
    "Obteniendo los datos desde el github del gobierno, el primero con los datos de las cuarentenas y el segundo con los datos de poblaciones por comuna y región. Necesarios para repsonder las preguntas"
   ]
  },
  {
   "cell_type": "code",
   "execution_count": 177,
   "metadata": {},
   "outputs": [],
   "source": [
    "df = pd.read_csv('https://raw.githubusercontent.com/MinCiencia/Datos-COVID19/master/output/producto29/Cuarentenas-Historicas.csv', \n",
    "                 sep = ',')"
   ]
  },
  {
   "cell_type": "code",
   "execution_count": 178,
   "metadata": {},
   "outputs": [],
   "source": [
    "dfp = pd.read_csv('https://raw.githubusercontent.com/MinCiencia/Datos-COVID19/master/output/producto1/Covid-19.csv', sep=',')"
   ]
  },
  {
   "cell_type": "markdown",
   "metadata": {},
   "source": [
    "Elimino las columnas del dataset que no me sirven"
   ]
  },
  {
   "cell_type": "code",
   "execution_count": 179,
   "metadata": {},
   "outputs": [],
   "source": [
    "df4 = df.drop(['Superficie en m2', 'Perímetro en m', 'Detalle'], axis = 1) #Me empecé a confundir entre tantos \"df\" distintos\n",
    "# a partir de esta celda, les asigne un número a cada \"df\" y estos números no son secuenciales entre sí (para evitar confusiones)"
   ]
  },
  {
   "cell_type": "markdown",
   "metadata": {},
   "source": [
    "Creo un nuevo dataset, por decirlo así, acortando solo a las columnas que necesito para trabajar con el codigo de abajo"
   ]
  },
  {
   "cell_type": "code",
   "execution_count": 180,
   "metadata": {},
   "outputs": [],
   "source": [
    "dfp2 = dfp[['Region','Codigo region','Comuna','Codigo comuna','Poblacion']]"
   ]
  },
  {
   "cell_type": "markdown",
   "metadata": {},
   "source": [
    "Botamos los valores nulos, para que no sean una molestia más adelante"
   ]
  },
  {
   "cell_type": "code",
   "execution_count": 181,
   "metadata": {},
   "outputs": [],
   "source": [
    "dfp3= dfp2.dropna()"
   ]
  },
  {
   "cell_type": "markdown",
   "metadata": {},
   "source": [
    "Cambio el nombre de la columna que tienen el codigo de comuna, para poder mezclar ambos dataset y tener solo uno"
   ]
  },
  {
   "cell_type": "code",
   "execution_count": 182,
   "metadata": {},
   "outputs": [],
   "source": [
    "df5 = df4.rename(columns={'Código CUT Comuna': 'Codigo comuna'})"
   ]
  },
  {
   "cell_type": "markdown",
   "metadata": {},
   "source": [
    "A continuación, mezclo ambos dataset con el objetivo de tener todos los datos necesarios en uno solo (Cuarentenas y poblaciones)"
   ]
  },
  {
   "cell_type": "code",
   "execution_count": 183,
   "metadata": {},
   "outputs": [],
   "source": [
    "df6 = df5.merge(dfp3, on= 'Codigo comuna')"
   ]
  },
  {
   "cell_type": "markdown",
   "metadata": {},
   "source": [
    "Elimino las columnas que no sirven con el siguiente código"
   ]
  },
  {
   "cell_type": "code",
   "execution_count": 184,
   "metadata": {},
   "outputs": [],
   "source": [
    "df7 = df6.drop(['ID', 'Nombre', 'Estado', 'Alcance'], axis = 1)"
   ]
  },
  {
   "cell_type": "markdown",
   "metadata": {},
   "source": [
    "Elimino la hora de las fechas y cambio el formato de las fechas para poder trabajar con ellas"
   ]
  },
  {
   "cell_type": "code",
   "execution_count": 185,
   "metadata": {},
   "outputs": [],
   "source": [
    "df7[\"Fecha de Inicio\"]=df7[\"Fecha de Inicio\"].apply(lambda x:x.split(\" \")[0])\n",
    "df7[\"Fecha de Término\"]=df7[\"Fecha de Término\"].apply(lambda x: x.split(\" \")[0])"
   ]
  },
  {
   "cell_type": "code",
   "execution_count": 186,
   "metadata": {},
   "outputs": [],
   "source": [
    "df7[\"Fecha de Inicio\"]=pd.to_datetime(df7[\"Fecha de Inicio\"])\n",
    "df7[\"Fecha de Término\"]=pd.to_datetime(df7[\"Fecha de Término\"])"
   ]
  },
  {
   "cell_type": "markdown",
   "metadata": {},
   "source": [
    "Agrego una columna que contenga los datos de \"Cantidad de días en cuarentena\" haciendo la resta entre ambas fechas"
   ]
  },
  {
   "cell_type": "code",
   "execution_count": 187,
   "metadata": {},
   "outputs": [],
   "source": [
    "df7['Cantidad de días en cuarentena'] = df7['Fecha de Término'].sub(df7['Fecha de Inicio'], axis=0)"
   ]
  },
  {
   "cell_type": "markdown",
   "metadata": {},
   "source": [
    "Hasta ahora, me dí cuenta que necesito repetir los datos de cuantos días estuvo en cuarentena una región para así después poder graficarlos. Ahora las fechas están aisladas"
   ]
  },
  {
   "cell_type": "markdown",
   "metadata": {},
   "source": [
    "Tengo que crear dos listas con las comunas en cuarentena y la cantidad de días que estuvieron en cuarentena. Para aplicar un código más adelante y Transformo la cantidad de días en cuarentena en número enteros para poder trabajar con ellos "
   ]
  },
  {
   "cell_type": "code",
   "execution_count": 188,
   "metadata": {},
   "outputs": [],
   "source": [
    "df7['Cantidad de días en cuarentena'] = df7['Cantidad de días en cuarentena'].dt.days.astype('int16')"
   ]
  },
  {
   "cell_type": "code",
   "execution_count": 189,
   "metadata": {
    "scrolled": false
   },
   "outputs": [],
   "source": [
    "comunas = []\n",
    "for i in df7['Comuna']:\n",
    "    comunas.append(i)\n",
    "\n",
    "cuarentena = []\n",
    "for i in df7['Cantidad de días en cuarentena']:\n",
    "    cuarentena.append(i)"
   ]
  },
  {
   "cell_type": "markdown",
   "metadata": {},
   "source": [
    "Este código lo encontré en internet, bajo la busqueda de \"como repetir valores en un dataset python\" y funcionó. Solo necesitaba crear un diccionario con el dato que queria repetir y la cantidad de veces. Por eso, necesitaba crear las listas anteriores"
   ]
  },
  {
   "cell_type": "code",
   "execution_count": 190,
   "metadata": {},
   "outputs": [],
   "source": [
    "dict_lista = dict(zip(comunas, cuarentena))\n",
    "reps = [dict_lista[val] if val in dict_lista else 1 for val in df7['Comuna']]\n",
    "df9 = df7.loc[np.repeat(df7.index.values, reps)]"
   ]
  },
  {
   "cell_type": "markdown",
   "metadata": {},
   "source": [
    "Hasta ahora, logré tener un dataframe llamado \"df9\" donde tengo todos los datos de las cuarentenas, la cantidad de días que estuvieron en cuarentena y la población de gente que estuvo en cuarentena. Ahora voy a separar este enorme dataframe por región con el objetivo de poder agregar las fechas entre los datos. "
   ]
  },
  {
   "cell_type": "code",
   "execution_count": 191,
   "metadata": {},
   "outputs": [],
   "source": [
    "r1 = df9.where(df9['Codigo region']==1)\n",
    "r2 = df9.where(df9['Codigo region']==2)\n",
    "r3 = df9.where(df9['Codigo region']==3)\n",
    "r4 = df9.where(df9['Codigo region']==4)\n",
    "r5 = df9.where(df9['Codigo region']==5)\n",
    "r6 = df9.where(df9['Codigo region']==6)\n",
    "r7 = df9.where(df9['Codigo region']==7)\n",
    "r8 = df9.where(df9['Codigo region']==8)\n",
    "r9 = df9.where(df9['Codigo region']==9)\n",
    "r10 = df9.where(df9['Codigo region']==10)\n",
    "r11 = df9.where(df9['Codigo region']==11)\n",
    "r12 = df9.where(df9['Codigo region']==12)\n",
    "r13 = df9.where(df9['Codigo region']==13)\n",
    "r14 = df9.where(df9['Codigo region']==14)\n",
    "r15 = df9.where(df9['Codigo region']==15)\n",
    "r16 = df9.where(df9['Codigo region']==16)"
   ]
  },
  {
   "cell_type": "markdown",
   "metadata": {},
   "source": [
    "Le borro los nulos a todos los dataframe creados"
   ]
  },
  {
   "cell_type": "code",
   "execution_count": 192,
   "metadata": {},
   "outputs": [],
   "source": [
    "r1 = r1.dropna()\n",
    "r2 = r2.dropna()\n",
    "r3 = r3.dropna()\n",
    "r4 = r4.dropna()\n",
    "r5 = r5.dropna()\n",
    "r6 = r6.dropna()\n",
    "r7 = r7.dropna()\n",
    "r8 = r8.dropna()\n",
    "r9 = r9.dropna()\n",
    "r10 = r10.dropna()\n",
    "r11 = r11.dropna()\n",
    "r12 = r12.dropna()\n",
    "r13 = r13.dropna()\n",
    "r14 = r14.dropna()\n",
    "r15 = r15.dropna()\n",
    "r16 = r15.dropna()"
   ]
  },
  {
   "cell_type": "markdown",
   "metadata": {},
   "source": [
    "A modo de ejemplo, tengo el dataset df9 donde la región de Arica y Parinacota estuvo 29 días en cuarentena. Y gracias al codigo que utilicé más arriba, tengo el mismo dato repetido 29 veces. Ahora me falta poder ingresar las fechas que existen entremedio de la fecha de inicio y la fecha de termino."
   ]
  },
  {
   "cell_type": "code",
   "execution_count": 193,
   "metadata": {
    "scrolled": false
   },
   "outputs": [
    {
     "data": {
      "text/html": [
       "<div>\n",
       "<style scoped>\n",
       "    .dataframe tbody tr th:only-of-type {\n",
       "        vertical-align: middle;\n",
       "    }\n",
       "\n",
       "    .dataframe tbody tr th {\n",
       "        vertical-align: top;\n",
       "    }\n",
       "\n",
       "    .dataframe thead th {\n",
       "        text-align: right;\n",
       "    }\n",
       "</style>\n",
       "<table border=\"1\" class=\"dataframe\">\n",
       "  <thead>\n",
       "    <tr style=\"text-align: right;\">\n",
       "      <th></th>\n",
       "      <th>Fecha de Inicio</th>\n",
       "      <th>Fecha de Término</th>\n",
       "      <th>Codigo comuna</th>\n",
       "      <th>Region</th>\n",
       "      <th>Codigo region</th>\n",
       "      <th>Comuna</th>\n",
       "      <th>Poblacion</th>\n",
       "      <th>Cantidad de días en cuarentena</th>\n",
       "    </tr>\n",
       "  </thead>\n",
       "  <tbody>\n",
       "    <tr>\n",
       "      <th>0</th>\n",
       "      <td>2020-04-16</td>\n",
       "      <td>2020-05-15</td>\n",
       "      <td>15101</td>\n",
       "      <td>Arica y Parinacota</td>\n",
       "      <td>15</td>\n",
       "      <td>Arica</td>\n",
       "      <td>247552.0</td>\n",
       "      <td>29</td>\n",
       "    </tr>\n",
       "    <tr>\n",
       "      <th>0</th>\n",
       "      <td>2020-04-16</td>\n",
       "      <td>2020-05-15</td>\n",
       "      <td>15101</td>\n",
       "      <td>Arica y Parinacota</td>\n",
       "      <td>15</td>\n",
       "      <td>Arica</td>\n",
       "      <td>247552.0</td>\n",
       "      <td>29</td>\n",
       "    </tr>\n",
       "    <tr>\n",
       "      <th>0</th>\n",
       "      <td>2020-04-16</td>\n",
       "      <td>2020-05-15</td>\n",
       "      <td>15101</td>\n",
       "      <td>Arica y Parinacota</td>\n",
       "      <td>15</td>\n",
       "      <td>Arica</td>\n",
       "      <td>247552.0</td>\n",
       "      <td>29</td>\n",
       "    </tr>\n",
       "    <tr>\n",
       "      <th>0</th>\n",
       "      <td>2020-04-16</td>\n",
       "      <td>2020-05-15</td>\n",
       "      <td>15101</td>\n",
       "      <td>Arica y Parinacota</td>\n",
       "      <td>15</td>\n",
       "      <td>Arica</td>\n",
       "      <td>247552.0</td>\n",
       "      <td>29</td>\n",
       "    </tr>\n",
       "    <tr>\n",
       "      <th>0</th>\n",
       "      <td>2020-04-16</td>\n",
       "      <td>2020-05-15</td>\n",
       "      <td>15101</td>\n",
       "      <td>Arica y Parinacota</td>\n",
       "      <td>15</td>\n",
       "      <td>Arica</td>\n",
       "      <td>247552.0</td>\n",
       "      <td>29</td>\n",
       "    </tr>\n",
       "  </tbody>\n",
       "</table>\n",
       "</div>"
      ],
      "text/plain": [
       "  Fecha de Inicio Fecha de Término  Codigo comuna              Region  \\\n",
       "0      2020-04-16       2020-05-15          15101  Arica y Parinacota   \n",
       "0      2020-04-16       2020-05-15          15101  Arica y Parinacota   \n",
       "0      2020-04-16       2020-05-15          15101  Arica y Parinacota   \n",
       "0      2020-04-16       2020-05-15          15101  Arica y Parinacota   \n",
       "0      2020-04-16       2020-05-15          15101  Arica y Parinacota   \n",
       "\n",
       "   Codigo region Comuna  Poblacion  Cantidad de días en cuarentena  \n",
       "0             15  Arica   247552.0                              29  \n",
       "0             15  Arica   247552.0                              29  \n",
       "0             15  Arica   247552.0                              29  \n",
       "0             15  Arica   247552.0                              29  \n",
       "0             15  Arica   247552.0                              29  "
      ]
     },
     "execution_count": 193,
     "metadata": {},
     "output_type": "execute_result"
    }
   ],
   "source": [
    "df9.head() "
   ]
  },
  {
   "cell_type": "markdown",
   "metadata": {},
   "source": [
    "Buscando en internet, encontré este codigo que crea una lista con fechas entremedio de dos rangos. Y posteriormente puedo agregar esas listas como una columna nueva al dataframe"
   ]
  },
  {
   "cell_type": "code",
   "execution_count": 194,
   "metadata": {},
   "outputs": [],
   "source": [
    "inicio2 = datetime(2020,5,5)\n",
    "fin2    = datetime(2020,5,28)\n",
    "\n",
    "lista_fechas_r2 = [(inicio2 + timedelta(days=d)).strftime(\"%Y-%m-%d\")\n",
    "                    for d in range((fin2 - inicio2).days + 1)] \n",
    "lista_fechas_r22 = [(inicio2 + timedelta(days=d)).strftime(\"%Y-%m-%d\")\n",
    "                    for d in range((fin2 - inicio2).days + 1)] \n",
    "lista2 = lista_fechas_r2 + lista_fechas_r22"
   ]
  },
  {
   "cell_type": "code",
   "execution_count": 195,
   "metadata": {},
   "outputs": [
    {
     "name": "stdout",
     "output_type": "stream",
     "text": [
      "48 48\n"
     ]
    }
   ],
   "source": [
    "print(len(r2), len(lista2))"
   ]
  },
  {
   "cell_type": "code",
   "execution_count": 196,
   "metadata": {},
   "outputs": [],
   "source": [
    "r2.insert(0,\"Fecha\",lista2,True)"
   ]
  },
  {
   "cell_type": "code",
   "execution_count": 197,
   "metadata": {},
   "outputs": [],
   "source": [
    "r2_1 = r2.drop(['Fecha de Inicio', 'Fecha de Término', 'Cantidad de días en cuarentena'], axis = 1)"
   ]
  },
  {
   "cell_type": "markdown",
   "metadata": {},
   "source": [
    "Finalmente, pude obtener un dataframe de la región de Antofagasta, el cual tiene la gente que estuvo en cuarentena (Antofagasta y mejillones) con las fechas entremedio de cada cuarentena. Por ejemplo, el segúndo dato tiene como fecha 2020-05-06 y así\n"
   ]
  },
  {
   "cell_type": "code",
   "execution_count": 198,
   "metadata": {
    "scrolled": true
   },
   "outputs": [
    {
     "data": {
      "text/html": [
       "<div>\n",
       "<style scoped>\n",
       "    .dataframe tbody tr th:only-of-type {\n",
       "        vertical-align: middle;\n",
       "    }\n",
       "\n",
       "    .dataframe tbody tr th {\n",
       "        vertical-align: top;\n",
       "    }\n",
       "\n",
       "    .dataframe thead th {\n",
       "        text-align: right;\n",
       "    }\n",
       "</style>\n",
       "<table border=\"1\" class=\"dataframe\">\n",
       "  <thead>\n",
       "    <tr style=\"text-align: right;\">\n",
       "      <th></th>\n",
       "      <th>Fecha</th>\n",
       "      <th>Codigo comuna</th>\n",
       "      <th>Region</th>\n",
       "      <th>Codigo region</th>\n",
       "      <th>Comuna</th>\n",
       "      <th>Poblacion</th>\n",
       "    </tr>\n",
       "  </thead>\n",
       "  <tbody>\n",
       "    <tr>\n",
       "      <th>35</th>\n",
       "      <td>2020-05-05</td>\n",
       "      <td>2101.0</td>\n",
       "      <td>Antofagasta</td>\n",
       "      <td>2.0</td>\n",
       "      <td>Antofagasta</td>\n",
       "      <td>425725.0</td>\n",
       "    </tr>\n",
       "    <tr>\n",
       "      <th>35</th>\n",
       "      <td>2020-05-06</td>\n",
       "      <td>2101.0</td>\n",
       "      <td>Antofagasta</td>\n",
       "      <td>2.0</td>\n",
       "      <td>Antofagasta</td>\n",
       "      <td>425725.0</td>\n",
       "    </tr>\n",
       "    <tr>\n",
       "      <th>35</th>\n",
       "      <td>2020-05-07</td>\n",
       "      <td>2101.0</td>\n",
       "      <td>Antofagasta</td>\n",
       "      <td>2.0</td>\n",
       "      <td>Antofagasta</td>\n",
       "      <td>425725.0</td>\n",
       "    </tr>\n",
       "    <tr>\n",
       "      <th>35</th>\n",
       "      <td>2020-05-08</td>\n",
       "      <td>2101.0</td>\n",
       "      <td>Antofagasta</td>\n",
       "      <td>2.0</td>\n",
       "      <td>Antofagasta</td>\n",
       "      <td>425725.0</td>\n",
       "    </tr>\n",
       "    <tr>\n",
       "      <th>35</th>\n",
       "      <td>2020-05-09</td>\n",
       "      <td>2101.0</td>\n",
       "      <td>Antofagasta</td>\n",
       "      <td>2.0</td>\n",
       "      <td>Antofagasta</td>\n",
       "      <td>425725.0</td>\n",
       "    </tr>\n",
       "  </tbody>\n",
       "</table>\n",
       "</div>"
      ],
      "text/plain": [
       "         Fecha  Codigo comuna       Region  Codigo region       Comuna  \\\n",
       "35  2020-05-05         2101.0  Antofagasta            2.0  Antofagasta   \n",
       "35  2020-05-06         2101.0  Antofagasta            2.0  Antofagasta   \n",
       "35  2020-05-07         2101.0  Antofagasta            2.0  Antofagasta   \n",
       "35  2020-05-08         2101.0  Antofagasta            2.0  Antofagasta   \n",
       "35  2020-05-09         2101.0  Antofagasta            2.0  Antofagasta   \n",
       "\n",
       "    Poblacion  \n",
       "35   425725.0  \n",
       "35   425725.0  \n",
       "35   425725.0  \n",
       "35   425725.0  \n",
       "35   425725.0  "
      ]
     },
     "execution_count": 198,
     "metadata": {},
     "output_type": "execute_result"
    }
   ],
   "source": [
    "r2_1.head()"
   ]
  },
  {
   "cell_type": "markdown",
   "metadata": {},
   "source": [
    "Continuo haciendo el mismo procedimiento para las demás regiones. Cabe destacar que no todas las regiones tienen datos, no sé por qué"
   ]
  },
  {
   "cell_type": "code",
   "execution_count": 199,
   "metadata": {},
   "outputs": [],
   "source": [
    "inicio51 = datetime(2020,3,19)\n",
    "fin51    = datetime(2020,4,5)\n",
    "\n",
    "inicio52 = datetime(2020,6,9)\n",
    "fin52    = datetime(2020,7,27)\n",
    "\n",
    "inicio53 = datetime(2020,6,19)\n",
    "fin53    = datetime(2020,7,27)\n",
    "\n",
    "lista_fechas_r51 = [(inicio51 + timedelta(days=d)).strftime(\"%Y-%m-%d\")\n",
    "                    for d in range((fin51 - inicio51).days + 1)] \n",
    "lista_fechas_r52 = [(inicio52 + timedelta(days=d)).strftime(\"%Y-%m-%d\")\n",
    "                    for d in range((fin52 - inicio52).days + 1)] \n",
    "lista_fechas_r53 = [(inicio53 + timedelta(days=d)).strftime(\"%Y-%m-%d\")\n",
    "                    for d in range((fin53 - inicio53).days + 1)] \n",
    "\n",
    "lista5 = lista_fechas_r51 + lista_fechas_r52 + lista_fechas_r53"
   ]
  },
  {
   "cell_type": "code",
   "execution_count": 200,
   "metadata": {},
   "outputs": [
    {
     "name": "stdout",
     "output_type": "stream",
     "text": [
      "106 106\n"
     ]
    }
   ],
   "source": [
    "print(len(r5), len(lista5))"
   ]
  },
  {
   "cell_type": "code",
   "execution_count": 201,
   "metadata": {},
   "outputs": [],
   "source": [
    "r5.insert(0,\"Fecha\",lista5,True)\n",
    "r5_1 = r5.drop(['Fecha de Inicio', 'Fecha de Término', 'Cantidad de días en cuarentena'], axis = 1)"
   ]
  },
  {
   "cell_type": "code",
   "execution_count": 202,
   "metadata": {
    "scrolled": false
   },
   "outputs": [
    {
     "data": {
      "text/html": [
       "<div>\n",
       "<style scoped>\n",
       "    .dataframe tbody tr th:only-of-type {\n",
       "        vertical-align: middle;\n",
       "    }\n",
       "\n",
       "    .dataframe tbody tr th {\n",
       "        vertical-align: top;\n",
       "    }\n",
       "\n",
       "    .dataframe thead th {\n",
       "        text-align: right;\n",
       "    }\n",
       "</style>\n",
       "<table border=\"1\" class=\"dataframe\">\n",
       "  <thead>\n",
       "    <tr style=\"text-align: right;\">\n",
       "      <th></th>\n",
       "      <th>Fecha</th>\n",
       "      <th>Codigo comuna</th>\n",
       "      <th>Region</th>\n",
       "      <th>Codigo region</th>\n",
       "      <th>Comuna</th>\n",
       "      <th>Poblacion</th>\n",
       "    </tr>\n",
       "  </thead>\n",
       "  <tbody>\n",
       "    <tr>\n",
       "      <th>26</th>\n",
       "      <td>2020-03-19</td>\n",
       "      <td>5201.0</td>\n",
       "      <td>Valparaíso</td>\n",
       "      <td>5.0</td>\n",
       "      <td>Isla de Pascua</td>\n",
       "      <td>8277.0</td>\n",
       "    </tr>\n",
       "    <tr>\n",
       "      <th>26</th>\n",
       "      <td>2020-03-20</td>\n",
       "      <td>5201.0</td>\n",
       "      <td>Valparaíso</td>\n",
       "      <td>5.0</td>\n",
       "      <td>Isla de Pascua</td>\n",
       "      <td>8277.0</td>\n",
       "    </tr>\n",
       "    <tr>\n",
       "      <th>26</th>\n",
       "      <td>2020-03-21</td>\n",
       "      <td>5201.0</td>\n",
       "      <td>Valparaíso</td>\n",
       "      <td>5.0</td>\n",
       "      <td>Isla de Pascua</td>\n",
       "      <td>8277.0</td>\n",
       "    </tr>\n",
       "    <tr>\n",
       "      <th>26</th>\n",
       "      <td>2020-03-22</td>\n",
       "      <td>5201.0</td>\n",
       "      <td>Valparaíso</td>\n",
       "      <td>5.0</td>\n",
       "      <td>Isla de Pascua</td>\n",
       "      <td>8277.0</td>\n",
       "    </tr>\n",
       "    <tr>\n",
       "      <th>26</th>\n",
       "      <td>2020-03-23</td>\n",
       "      <td>5201.0</td>\n",
       "      <td>Valparaíso</td>\n",
       "      <td>5.0</td>\n",
       "      <td>Isla de Pascua</td>\n",
       "      <td>8277.0</td>\n",
       "    </tr>\n",
       "  </tbody>\n",
       "</table>\n",
       "</div>"
      ],
      "text/plain": [
       "         Fecha  Codigo comuna      Region  Codigo region          Comuna  \\\n",
       "26  2020-03-19         5201.0  Valparaíso            5.0  Isla de Pascua   \n",
       "26  2020-03-20         5201.0  Valparaíso            5.0  Isla de Pascua   \n",
       "26  2020-03-21         5201.0  Valparaíso            5.0  Isla de Pascua   \n",
       "26  2020-03-22         5201.0  Valparaíso            5.0  Isla de Pascua   \n",
       "26  2020-03-23         5201.0  Valparaíso            5.0  Isla de Pascua   \n",
       "\n",
       "    Poblacion  \n",
       "26     8277.0  \n",
       "26     8277.0  \n",
       "26     8277.0  \n",
       "26     8277.0  \n",
       "26     8277.0  "
      ]
     },
     "execution_count": 202,
     "metadata": {},
     "output_type": "execute_result"
    }
   ],
   "source": [
    "r5_1.head()"
   ]
  },
  {
   "cell_type": "markdown",
   "metadata": {},
   "source": [
    "Hasta acá, luego de comentarlo con compañeros del curso. Pudimos pensar un código por medio de un ciclo \"for\" que pueda iterar para ir guardando las listas necesarias para agregar los rangos de fechas a los distintos datasets. El código resultó lo siguiente"
   ]
  },
  {
   "cell_type": "code",
   "execution_count": 203,
   "metadata": {},
   "outputs": [
    {
     "data": {
      "text/plain": [
       "44"
      ]
     },
     "execution_count": 203,
     "metadata": {},
     "output_type": "execute_result"
    }
   ],
   "source": [
    "#primero creamos dos listas guardando la fecha de inicio y la fecha de término\n",
    "Inicio=[]\n",
    "for i in df7[\"Fecha de Inicio\"]:\n",
    "    Inicio.append(i)\n",
    "\n",
    "Final=[]\n",
    "for j in df7[\"Fecha de Término\"]:\n",
    "    Final.append(j)\n",
    "#luego creamos un ciclo for que pueda iterar entre la resta de la fecha de inicio y término, resultando una lista de listas\n",
    "m=[]\n",
    "for k,l in zip(Inicio,Final):\n",
    "\n",
    "    inicio = k\n",
    "    fin    = l\n",
    "\n",
    "    m.append([(inicio + timedelta(days=d)).strftime(\"%Y-%m-%d\")\n",
    "                            for d in range((fin - inicio).days )])\n",
    "len(m)\n",
    "#Finalmente la lista \"m\" contiene todos los rangos de fechas necesarios para agregar en las distintas regiones y finalmente poder graficar"
   ]
  },
  {
   "cell_type": "code",
   "execution_count": 204,
   "metadata": {},
   "outputs": [],
   "source": [
    "l8= m[21]+m[22]\n",
    "r8.insert(0,\"Fecha\",l8,True)\n",
    "r8_1 = r8.drop(['Fecha de Inicio', 'Fecha de Término', 'Cantidad de días en cuarentena'], axis = 1)"
   ]
  },
  {
   "cell_type": "code",
   "execution_count": 205,
   "metadata": {},
   "outputs": [
    {
     "name": "stdout",
     "output_type": "stream",
     "text": [
      "34 34\n"
     ]
    }
   ],
   "source": [
    "print(len(r8), len(l8))"
   ]
  },
  {
   "cell_type": "code",
   "execution_count": 206,
   "metadata": {
    "scrolled": true
   },
   "outputs": [],
   "source": [
    "l9= m[10]+m[23]+m[25]+m[31]+m[32]+m[40]\n",
    "r9.insert(0,\"Fecha\",l9,True)\n",
    "r9_1 = r9.drop(['Fecha de Inicio', 'Fecha de Término', 'Cantidad de días en cuarentena'], axis = 1)"
   ]
  },
  {
   "cell_type": "code",
   "execution_count": 207,
   "metadata": {},
   "outputs": [],
   "source": [
    "l10= m[8]\n",
    "r10.insert(0,\"Fecha\",l10,True)\n",
    "r10_1 = r9.drop(['Fecha de Inicio', 'Fecha de Término', 'Cantidad de días en cuarentena'], axis = 1)"
   ]
  },
  {
   "cell_type": "code",
   "execution_count": 208,
   "metadata": {},
   "outputs": [],
   "source": [
    "l11= m[30]\n",
    "r11.insert(0,\"Fecha\",l11,True)\n",
    "r11_1 = r11.drop(['Fecha de Inicio', 'Fecha de Término', 'Cantidad de días en cuarentena'], axis = 1)"
   ]
  },
  {
   "cell_type": "code",
   "execution_count": 209,
   "metadata": {},
   "outputs": [],
   "source": [
    "l12= m[9]+m[29]\n",
    "r12.insert(0,\"Fecha\",l12,True)\n",
    "r12_1 = r12.drop(['Fecha de Inicio', 'Fecha de Término', 'Cantidad de días en cuarentena'], axis = 1)"
   ]
  },
  {
   "cell_type": "code",
   "execution_count": 210,
   "metadata": {
    "scrolled": true
   },
   "outputs": [
    {
     "data": {
      "text/html": [
       "<div>\n",
       "<style scoped>\n",
       "    .dataframe tbody tr th:only-of-type {\n",
       "        vertical-align: middle;\n",
       "    }\n",
       "\n",
       "    .dataframe tbody tr th {\n",
       "        vertical-align: top;\n",
       "    }\n",
       "\n",
       "    .dataframe thead th {\n",
       "        text-align: right;\n",
       "    }\n",
       "</style>\n",
       "<table border=\"1\" class=\"dataframe\">\n",
       "  <thead>\n",
       "    <tr style=\"text-align: right;\">\n",
       "      <th></th>\n",
       "      <th>Fecha de Inicio</th>\n",
       "      <th>Fecha de Término</th>\n",
       "      <th>Codigo comuna</th>\n",
       "      <th>Region</th>\n",
       "      <th>Codigo region</th>\n",
       "      <th>Comuna</th>\n",
       "      <th>Poblacion</th>\n",
       "      <th>Cantidad de días en cuarentena</th>\n",
       "    </tr>\n",
       "  </thead>\n",
       "  <tbody>\n",
       "    <tr>\n",
       "      <th>1</th>\n",
       "      <td>2020-04-13</td>\n",
       "      <td>2020-05-05</td>\n",
       "      <td>13101.0</td>\n",
       "      <td>Metropolitana</td>\n",
       "      <td>13.0</td>\n",
       "      <td>Santiago</td>\n",
       "      <td>503147.0</td>\n",
       "      <td>22.0</td>\n",
       "    </tr>\n",
       "    <tr>\n",
       "      <th>1</th>\n",
       "      <td>2020-04-13</td>\n",
       "      <td>2020-05-05</td>\n",
       "      <td>13101.0</td>\n",
       "      <td>Metropolitana</td>\n",
       "      <td>13.0</td>\n",
       "      <td>Santiago</td>\n",
       "      <td>503147.0</td>\n",
       "      <td>22.0</td>\n",
       "    </tr>\n",
       "    <tr>\n",
       "      <th>1</th>\n",
       "      <td>2020-04-13</td>\n",
       "      <td>2020-05-05</td>\n",
       "      <td>13101.0</td>\n",
       "      <td>Metropolitana</td>\n",
       "      <td>13.0</td>\n",
       "      <td>Santiago</td>\n",
       "      <td>503147.0</td>\n",
       "      <td>22.0</td>\n",
       "    </tr>\n",
       "    <tr>\n",
       "      <th>1</th>\n",
       "      <td>2020-04-13</td>\n",
       "      <td>2020-05-05</td>\n",
       "      <td>13101.0</td>\n",
       "      <td>Metropolitana</td>\n",
       "      <td>13.0</td>\n",
       "      <td>Santiago</td>\n",
       "      <td>503147.0</td>\n",
       "      <td>22.0</td>\n",
       "    </tr>\n",
       "    <tr>\n",
       "      <th>1</th>\n",
       "      <td>2020-04-13</td>\n",
       "      <td>2020-05-05</td>\n",
       "      <td>13101.0</td>\n",
       "      <td>Metropolitana</td>\n",
       "      <td>13.0</td>\n",
       "      <td>Santiago</td>\n",
       "      <td>503147.0</td>\n",
       "      <td>22.0</td>\n",
       "    </tr>\n",
       "    <tr>\n",
       "      <th>...</th>\n",
       "      <td>...</td>\n",
       "      <td>...</td>\n",
       "      <td>...</td>\n",
       "      <td>...</td>\n",
       "      <td>...</td>\n",
       "      <td>...</td>\n",
       "      <td>...</td>\n",
       "      <td>...</td>\n",
       "    </tr>\n",
       "    <tr>\n",
       "      <th>42</th>\n",
       "      <td>2020-06-12</td>\n",
       "      <td>2020-07-28</td>\n",
       "      <td>13303.0</td>\n",
       "      <td>Metropolitana</td>\n",
       "      <td>13.0</td>\n",
       "      <td>Tiltil</td>\n",
       "      <td>21477.0</td>\n",
       "      <td>46.0</td>\n",
       "    </tr>\n",
       "    <tr>\n",
       "      <th>42</th>\n",
       "      <td>2020-06-12</td>\n",
       "      <td>2020-07-28</td>\n",
       "      <td>13303.0</td>\n",
       "      <td>Metropolitana</td>\n",
       "      <td>13.0</td>\n",
       "      <td>Tiltil</td>\n",
       "      <td>21477.0</td>\n",
       "      <td>46.0</td>\n",
       "    </tr>\n",
       "    <tr>\n",
       "      <th>42</th>\n",
       "      <td>2020-06-12</td>\n",
       "      <td>2020-07-28</td>\n",
       "      <td>13303.0</td>\n",
       "      <td>Metropolitana</td>\n",
       "      <td>13.0</td>\n",
       "      <td>Tiltil</td>\n",
       "      <td>21477.0</td>\n",
       "      <td>46.0</td>\n",
       "    </tr>\n",
       "    <tr>\n",
       "      <th>42</th>\n",
       "      <td>2020-06-12</td>\n",
       "      <td>2020-07-28</td>\n",
       "      <td>13303.0</td>\n",
       "      <td>Metropolitana</td>\n",
       "      <td>13.0</td>\n",
       "      <td>Tiltil</td>\n",
       "      <td>21477.0</td>\n",
       "      <td>46.0</td>\n",
       "    </tr>\n",
       "    <tr>\n",
       "      <th>42</th>\n",
       "      <td>2020-06-12</td>\n",
       "      <td>2020-07-28</td>\n",
       "      <td>13303.0</td>\n",
       "      <td>Metropolitana</td>\n",
       "      <td>13.0</td>\n",
       "      <td>Tiltil</td>\n",
       "      <td>21477.0</td>\n",
       "      <td>46.0</td>\n",
       "    </tr>\n",
       "  </tbody>\n",
       "</table>\n",
       "<p>982 rows × 8 columns</p>\n",
       "</div>"
      ],
      "text/plain": [
       "   Fecha de Inicio Fecha de Término  Codigo comuna         Region  \\\n",
       "1       2020-04-13       2020-05-05        13101.0  Metropolitana   \n",
       "1       2020-04-13       2020-05-05        13101.0  Metropolitana   \n",
       "1       2020-04-13       2020-05-05        13101.0  Metropolitana   \n",
       "1       2020-04-13       2020-05-05        13101.0  Metropolitana   \n",
       "1       2020-04-13       2020-05-05        13101.0  Metropolitana   \n",
       "..             ...              ...            ...            ...   \n",
       "42      2020-06-12       2020-07-28        13303.0  Metropolitana   \n",
       "42      2020-06-12       2020-07-28        13303.0  Metropolitana   \n",
       "42      2020-06-12       2020-07-28        13303.0  Metropolitana   \n",
       "42      2020-06-12       2020-07-28        13303.0  Metropolitana   \n",
       "42      2020-06-12       2020-07-28        13303.0  Metropolitana   \n",
       "\n",
       "    Codigo region    Comuna  Poblacion  Cantidad de días en cuarentena  \n",
       "1            13.0  Santiago   503147.0                            22.0  \n",
       "1            13.0  Santiago   503147.0                            22.0  \n",
       "1            13.0  Santiago   503147.0                            22.0  \n",
       "1            13.0  Santiago   503147.0                            22.0  \n",
       "1            13.0  Santiago   503147.0                            22.0  \n",
       "..            ...       ...        ...                             ...  \n",
       "42           13.0    Tiltil    21477.0                            46.0  \n",
       "42           13.0    Tiltil    21477.0                            46.0  \n",
       "42           13.0    Tiltil    21477.0                            46.0  \n",
       "42           13.0    Tiltil    21477.0                            46.0  \n",
       "42           13.0    Tiltil    21477.0                            46.0  \n",
       "\n",
       "[982 rows x 8 columns]"
      ]
     },
     "execution_count": 210,
     "metadata": {},
     "output_type": "execute_result"
    }
   ],
   "source": [
    "r13"
   ]
  },
  {
   "cell_type": "code",
   "execution_count": 211,
   "metadata": {},
   "outputs": [],
   "source": [
    "l13 = m[1]+m[2]+m[3]+m[4]+m[5]+m[6]+m[11]+m[12]+m[13]+m[14]+m[15]+m[16]+m[17]+m[18]+m[19]+m[20]+m[27]+m[28]+m[33]+m[34]+m[37]+m[38]+m[39]+m[42]"
   ]
  },
  {
   "cell_type": "code",
   "execution_count": 212,
   "metadata": {},
   "outputs": [
    {
     "name": "stdout",
     "output_type": "stream",
     "text": [
      "982 752\n"
     ]
    }
   ],
   "source": [
    "print(len(r13), len(l13))"
   ]
  },
  {
   "cell_type": "code",
   "execution_count": 213,
   "metadata": {},
   "outputs": [],
   "source": [
    "l15= m[0]\n",
    "r15.insert(0,\"Fecha\",l15,True)\n",
    "r15_1 = r15.drop(['Fecha de Inicio', 'Fecha de Término', 'Cantidad de días en cuarentena'], axis = 1)"
   ]
  },
  {
   "cell_type": "code",
   "execution_count": 214,
   "metadata": {},
   "outputs": [],
   "source": [
    "l16= m[0]\n",
    "r16.insert(0,\"Fecha\",l16,True)\n",
    "r16_1 = r16.drop(['Fecha de Inicio', 'Fecha de Término', 'Cantidad de días en cuarentena'], axis = 1)"
   ]
  },
  {
   "cell_type": "code",
   "execution_count": 215,
   "metadata": {},
   "outputs": [],
   "source": [
    "regiones=pd.concat([r2_1,r5_1,r8_1,r9_1,r10_1,r11_1,r12_1,r15_1,r16_1])"
   ]
  },
  {
   "cell_type": "markdown",
   "metadata": {},
   "source": [
    "Finalmente obtengo un dataframe que tiene todas las cuarentenas, todas las fechas y todas las personas"
   ]
  },
  {
   "cell_type": "code",
   "execution_count": 216,
   "metadata": {},
   "outputs": [
    {
     "data": {
      "text/html": [
       "<div>\n",
       "<style scoped>\n",
       "    .dataframe tbody tr th:only-of-type {\n",
       "        vertical-align: middle;\n",
       "    }\n",
       "\n",
       "    .dataframe tbody tr th {\n",
       "        vertical-align: top;\n",
       "    }\n",
       "\n",
       "    .dataframe thead th {\n",
       "        text-align: right;\n",
       "    }\n",
       "</style>\n",
       "<table border=\"1\" class=\"dataframe\">\n",
       "  <thead>\n",
       "    <tr style=\"text-align: right;\">\n",
       "      <th></th>\n",
       "      <th>Fecha</th>\n",
       "      <th>Codigo comuna</th>\n",
       "      <th>Region</th>\n",
       "      <th>Codigo region</th>\n",
       "      <th>Comuna</th>\n",
       "      <th>Poblacion</th>\n",
       "    </tr>\n",
       "  </thead>\n",
       "  <tbody>\n",
       "    <tr>\n",
       "      <th>35</th>\n",
       "      <td>2020-05-05</td>\n",
       "      <td>2101.0</td>\n",
       "      <td>Antofagasta</td>\n",
       "      <td>2.0</td>\n",
       "      <td>Antofagasta</td>\n",
       "      <td>425725.0</td>\n",
       "    </tr>\n",
       "    <tr>\n",
       "      <th>35</th>\n",
       "      <td>2020-05-06</td>\n",
       "      <td>2101.0</td>\n",
       "      <td>Antofagasta</td>\n",
       "      <td>2.0</td>\n",
       "      <td>Antofagasta</td>\n",
       "      <td>425725.0</td>\n",
       "    </tr>\n",
       "    <tr>\n",
       "      <th>35</th>\n",
       "      <td>2020-05-07</td>\n",
       "      <td>2101.0</td>\n",
       "      <td>Antofagasta</td>\n",
       "      <td>2.0</td>\n",
       "      <td>Antofagasta</td>\n",
       "      <td>425725.0</td>\n",
       "    </tr>\n",
       "    <tr>\n",
       "      <th>35</th>\n",
       "      <td>2020-05-08</td>\n",
       "      <td>2101.0</td>\n",
       "      <td>Antofagasta</td>\n",
       "      <td>2.0</td>\n",
       "      <td>Antofagasta</td>\n",
       "      <td>425725.0</td>\n",
       "    </tr>\n",
       "    <tr>\n",
       "      <th>35</th>\n",
       "      <td>2020-05-09</td>\n",
       "      <td>2101.0</td>\n",
       "      <td>Antofagasta</td>\n",
       "      <td>2.0</td>\n",
       "      <td>Antofagasta</td>\n",
       "      <td>425725.0</td>\n",
       "    </tr>\n",
       "    <tr>\n",
       "      <th>...</th>\n",
       "      <td>...</td>\n",
       "      <td>...</td>\n",
       "      <td>...</td>\n",
       "      <td>...</td>\n",
       "      <td>...</td>\n",
       "      <td>...</td>\n",
       "    </tr>\n",
       "    <tr>\n",
       "      <th>0</th>\n",
       "      <td>2020-05-10</td>\n",
       "      <td>15101.0</td>\n",
       "      <td>Arica y Parinacota</td>\n",
       "      <td>15.0</td>\n",
       "      <td>Arica</td>\n",
       "      <td>247552.0</td>\n",
       "    </tr>\n",
       "    <tr>\n",
       "      <th>0</th>\n",
       "      <td>2020-05-11</td>\n",
       "      <td>15101.0</td>\n",
       "      <td>Arica y Parinacota</td>\n",
       "      <td>15.0</td>\n",
       "      <td>Arica</td>\n",
       "      <td>247552.0</td>\n",
       "    </tr>\n",
       "    <tr>\n",
       "      <th>0</th>\n",
       "      <td>2020-05-12</td>\n",
       "      <td>15101.0</td>\n",
       "      <td>Arica y Parinacota</td>\n",
       "      <td>15.0</td>\n",
       "      <td>Arica</td>\n",
       "      <td>247552.0</td>\n",
       "    </tr>\n",
       "    <tr>\n",
       "      <th>0</th>\n",
       "      <td>2020-05-13</td>\n",
       "      <td>15101.0</td>\n",
       "      <td>Arica y Parinacota</td>\n",
       "      <td>15.0</td>\n",
       "      <td>Arica</td>\n",
       "      <td>247552.0</td>\n",
       "    </tr>\n",
       "    <tr>\n",
       "      <th>0</th>\n",
       "      <td>2020-05-14</td>\n",
       "      <td>15101.0</td>\n",
       "      <td>Arica y Parinacota</td>\n",
       "      <td>15.0</td>\n",
       "      <td>Arica</td>\n",
       "      <td>247552.0</td>\n",
       "    </tr>\n",
       "  </tbody>\n",
       "</table>\n",
       "<p>520 rows × 6 columns</p>\n",
       "</div>"
      ],
      "text/plain": [
       "         Fecha  Codigo comuna              Region  Codigo region       Comuna  \\\n",
       "35  2020-05-05         2101.0         Antofagasta            2.0  Antofagasta   \n",
       "35  2020-05-06         2101.0         Antofagasta            2.0  Antofagasta   \n",
       "35  2020-05-07         2101.0         Antofagasta            2.0  Antofagasta   \n",
       "35  2020-05-08         2101.0         Antofagasta            2.0  Antofagasta   \n",
       "35  2020-05-09         2101.0         Antofagasta            2.0  Antofagasta   \n",
       "..         ...            ...                 ...            ...          ...   \n",
       "0   2020-05-10        15101.0  Arica y Parinacota           15.0        Arica   \n",
       "0   2020-05-11        15101.0  Arica y Parinacota           15.0        Arica   \n",
       "0   2020-05-12        15101.0  Arica y Parinacota           15.0        Arica   \n",
       "0   2020-05-13        15101.0  Arica y Parinacota           15.0        Arica   \n",
       "0   2020-05-14        15101.0  Arica y Parinacota           15.0        Arica   \n",
       "\n",
       "    Poblacion  \n",
       "35   425725.0  \n",
       "35   425725.0  \n",
       "35   425725.0  \n",
       "35   425725.0  \n",
       "35   425725.0  \n",
       "..        ...  \n",
       "0    247552.0  \n",
       "0    247552.0  \n",
       "0    247552.0  \n",
       "0    247552.0  \n",
       "0    247552.0  \n",
       "\n",
       "[520 rows x 6 columns]"
      ]
     },
     "execution_count": 216,
     "metadata": {},
     "output_type": "execute_result"
    }
   ],
   "source": [
    "regiones"
   ]
  },
  {
   "cell_type": "code",
   "execution_count": 230,
   "metadata": {},
   "outputs": [],
   "source": [
    "regiones1 = regiones.groupby([\"Codigo region\",\"Fecha\"]).sum()"
   ]
  },
  {
   "cell_type": "code",
   "execution_count": 231,
   "metadata": {},
   "outputs": [
    {
     "data": {
      "text/html": [
       "<div>\n",
       "<style scoped>\n",
       "    .dataframe tbody tr th:only-of-type {\n",
       "        vertical-align: middle;\n",
       "    }\n",
       "\n",
       "    .dataframe tbody tr th {\n",
       "        vertical-align: top;\n",
       "    }\n",
       "\n",
       "    .dataframe thead th {\n",
       "        text-align: right;\n",
       "    }\n",
       "</style>\n",
       "<table border=\"1\" class=\"dataframe\">\n",
       "  <thead>\n",
       "    <tr style=\"text-align: right;\">\n",
       "      <th></th>\n",
       "      <th></th>\n",
       "      <th>Codigo comuna</th>\n",
       "      <th>Poblacion</th>\n",
       "    </tr>\n",
       "    <tr>\n",
       "      <th>Codigo region</th>\n",
       "      <th>Fecha</th>\n",
       "      <th></th>\n",
       "      <th></th>\n",
       "    </tr>\n",
       "  </thead>\n",
       "  <tbody>\n",
       "    <tr>\n",
       "      <th rowspan=\"5\" valign=\"top\">2.0</th>\n",
       "      <th>2020-05-05</th>\n",
       "      <td>4203.0</td>\n",
       "      <td>440501.0</td>\n",
       "    </tr>\n",
       "    <tr>\n",
       "      <th>2020-05-06</th>\n",
       "      <td>4203.0</td>\n",
       "      <td>440501.0</td>\n",
       "    </tr>\n",
       "    <tr>\n",
       "      <th>2020-05-07</th>\n",
       "      <td>4203.0</td>\n",
       "      <td>440501.0</td>\n",
       "    </tr>\n",
       "    <tr>\n",
       "      <th>2020-05-08</th>\n",
       "      <td>4203.0</td>\n",
       "      <td>440501.0</td>\n",
       "    </tr>\n",
       "    <tr>\n",
       "      <th>2020-05-09</th>\n",
       "      <td>4203.0</td>\n",
       "      <td>440501.0</td>\n",
       "    </tr>\n",
       "    <tr>\n",
       "      <th>...</th>\n",
       "      <th>...</th>\n",
       "      <td>...</td>\n",
       "      <td>...</td>\n",
       "    </tr>\n",
       "    <tr>\n",
       "      <th rowspan=\"5\" valign=\"top\">15.0</th>\n",
       "      <th>2020-05-10</th>\n",
       "      <td>30202.0</td>\n",
       "      <td>495104.0</td>\n",
       "    </tr>\n",
       "    <tr>\n",
       "      <th>2020-05-11</th>\n",
       "      <td>30202.0</td>\n",
       "      <td>495104.0</td>\n",
       "    </tr>\n",
       "    <tr>\n",
       "      <th>2020-05-12</th>\n",
       "      <td>30202.0</td>\n",
       "      <td>495104.0</td>\n",
       "    </tr>\n",
       "    <tr>\n",
       "      <th>2020-05-13</th>\n",
       "      <td>30202.0</td>\n",
       "      <td>495104.0</td>\n",
       "    </tr>\n",
       "    <tr>\n",
       "      <th>2020-05-14</th>\n",
       "      <td>30202.0</td>\n",
       "      <td>495104.0</td>\n",
       "    </tr>\n",
       "  </tbody>\n",
       "</table>\n",
       "<p>261 rows × 2 columns</p>\n",
       "</div>"
      ],
      "text/plain": [
       "                          Codigo comuna  Poblacion\n",
       "Codigo region Fecha                               \n",
       "2.0           2020-05-05         4203.0   440501.0\n",
       "              2020-05-06         4203.0   440501.0\n",
       "              2020-05-07         4203.0   440501.0\n",
       "              2020-05-08         4203.0   440501.0\n",
       "              2020-05-09         4203.0   440501.0\n",
       "...                                 ...        ...\n",
       "15.0          2020-05-10        30202.0   495104.0\n",
       "              2020-05-11        30202.0   495104.0\n",
       "              2020-05-12        30202.0   495104.0\n",
       "              2020-05-13        30202.0   495104.0\n",
       "              2020-05-14        30202.0   495104.0\n",
       "\n",
       "[261 rows x 2 columns]"
      ]
     },
     "execution_count": 231,
     "metadata": {},
     "output_type": "execute_result"
    }
   ],
   "source": [
    "regiones1"
   ]
  },
  {
   "cell_type": "code",
   "execution_count": 234,
   "metadata": {},
   "outputs": [
    {
     "data": {
      "text/plain": [
       "<matplotlib.axes._subplots.AxesSubplot at 0x210b41ad288>"
      ]
     },
     "execution_count": 234,
     "metadata": {},
     "output_type": "execute_result"
    },
    {
     "data": {
      "image/png": "[encoded data removed]",
      "text/plain": [
       "<Figure size 1080x576 with 1 Axes>"
      ]
     },
     "metadata": {
      "needs_background": "light"
     },
     "output_type": "display_data"
    }
   ],
   "source": [
    "plt.figure(figsize = (15,8))\n",
    "sns.lineplot(x = 'Fecha', y = 'Poblacion', data = regiones)"
   ]
  },
  {
   "cell_type": "code",
   "execution_count": null,
   "metadata": {},
   "outputs": [],
   "source": []
  },
  {
   "cell_type": "code",
   "execution_count": null,
   "metadata": {},
   "outputs": [],
   "source": []
  }
 ],
 "metadata": {
  "kernelspec": {
   "display_name": "Python 3",
   "language": "python",
   "name": "python3"
  },
  "language_info": {
   "codemirror_mode": {
    "name": "ipython",
    "version": 3
   },
   "file_extension": ".py",
   "mimetype": "text/x-python",
   "name": "python",
   "nbconvert_exporter": "python",
   "pygments_lexer": "ipython3",
   "version": "3.7.6"
  }
 },
 "nbformat": 4,
 "nbformat_minor": 4
}
